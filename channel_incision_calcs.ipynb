{
 "cells": [
  {
   "cell_type": "markdown",
   "metadata": {},
   "source": [
    "### Calculations of channel incision for GRL doline paper"
   ]
  },
  {
   "cell_type": "markdown",
   "metadata": {},
   "source": [
    "Channel discharge equaiton from Kingslake et al., 2015 (their eqn 10):\n",
    "\n",
    "$$ Q = \\sqrt{\\frac{8g\\phi_b}{f_R}} w D^{\\frac{3}{2}} $$\n",
    "\n",
    "(Kingslake, J., Ng, F. and Sole, A., 2015. Modelling channelized surface drainage of supraglacial lakes. Journal of Glaciology, 61(225), pp.185-199.) \n",
    "\n",
    "$f_R$ is the channel's hydraulic roughness in the Darcy Weisbach equation, "
   ]
  },
  {
   "cell_type": "code",
   "execution_count": 13,
   "metadata": {},
   "outputs": [],
   "source": [
    "import numpy as np"
   ]
  },
  {
   "cell_type": "code",
   "execution_count": 28,
   "metadata": {},
   "outputs": [],
   "source": [
    "g = 9.8 # acceleration due to gravity [m/s^2]\n",
    "phi = 0.01 # along channel slope [-]\n",
    "f_R = 0.25 # darcy weisbach channel roughness\n",
    "D = 1 # water flow depth [m]\n",
    "rho_w = 1000   # density of water kg/m^3\n",
    "rho_i = 917   # density of ice kg/m^3\n",
    "w = 100 # channel width [m]\n",
    "L = 334e3  # specifc latent heat of fusion of ice [J/kg]\n",
    "spy = 60*60*24*365  # seconds per year [-]"
   ]
  },
  {
   "cell_type": "code",
   "execution_count": 32,
   "metadata": {},
   "outputs": [
    {
     "data": {
      "text/plain": [
       "177.08754896942924"
      ]
     },
     "execution_count": 32,
     "metadata": {},
     "output_type": "execute_result"
    }
   ],
   "source": [
    "Q = np.sqrt(8*g*phi/f_R)*w*D**(3/2)    # water discharge [m^3/s]\n",
    "Q"
   ]
  },
  {
   "cell_type": "code",
   "execution_count": 33,
   "metadata": {},
   "outputs": [
    {
     "data": {
      "text/plain": [
       "1.7708754896942924"
      ]
     },
     "execution_count": 33,
     "metadata": {},
     "output_type": "execute_result"
    }
   ],
   "source": [
    "v = Q/(w*D)    # water velocity [m/s]\n",
    "v"
   ]
  },
  {
   "cell_type": "markdown",
   "metadata": {},
   "source": [
    "\n",
    "Incision rate eqn form Kingslake et al., 2015 (their eqn 12): $$ \\frac{\\partial h_c}{\\partial t}=-\\frac{f_R \\rho_w}{8 L \\rho_i}v^3 $$"
   ]
  },
  {
   "cell_type": "code",
   "execution_count": 34,
   "metadata": {},
   "outputs": [
    {
     "data": {
      "text/plain": [
       "-0.048956689498885056"
      ]
     },
     "execution_count": 34,
     "metadata": {},
     "output_type": "execute_result"
    }
   ],
   "source": [
    "dhcdt = - f_R*rho_w/(8*L*rho_i)*v**3   # incision rate [m/s]\n",
    "dhcdt *60*60*24         # incision rate [m/day]"
   ]
  }
 ],
 "metadata": {
  "kernelspec": {
   "display_name": "Python 3",
   "language": "python",
   "name": "python3"
  },
  "language_info": {
   "codemirror_mode": {
    "name": "ipython",
    "version": 3
   },
   "file_extension": ".py",
   "mimetype": "text/x-python",
   "name": "python",
   "nbconvert_exporter": "python",
   "pygments_lexer": "ipython3",
   "version": "3.8.5"
  }
 },
 "nbformat": 4,
 "nbformat_minor": 4
}
